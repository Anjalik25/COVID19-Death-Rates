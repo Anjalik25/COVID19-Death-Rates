{
 "cells": [
  {
   "cell_type": "code",
   "execution_count": 1,
   "metadata": {},
   "outputs": [],
   "source": [
    "import pandas as pd\n",
    "import numpy as np\n",
    "import matplotlib.pyplot as plt\n",
    "import seaborn as sns"
   ]
  },
  {
   "cell_type": "code",
   "execution_count": 2,
   "metadata": {},
   "outputs": [],
   "source": [
    "data=pd.read_csv('covid_19_data.csv')"
   ]
  },
  {
   "cell_type": "code",
   "execution_count": 3,
   "metadata": {},
   "outputs": [],
   "source": [
    "#All dates\n",
    "TotalDate=data['ObservationDate'].unique()"
   ]
  },
  {
   "cell_type": "code",
   "execution_count": 4,
   "metadata": {},
   "outputs": [],
   "source": [
    "TotalDeath=data.groupby(['ObservationDate','Country/Region'])['Deaths'].sum()\n",
    "TotalCountry=data.groupby(['ObservationDate'])['Country/Region'].unique()"
   ]
  },
  {
   "cell_type": "code",
   "execution_count": 5,
   "metadata": {},
   "outputs": [],
   "source": [
    "for i in range(len(TotalCountry)):\n",
    "    TotalCountry[i].sort()"
   ]
  },
  {
   "cell_type": "code",
   "execution_count": 6,
   "metadata": {},
   "outputs": [],
   "source": [
    "country=[]\n",
    "date=[]\n",
    "for i in range(len(TotalCountry)):\n",
    "    for j in range(len(TotalCountry[i])):\n",
    "        date.append(TotalDate[i])\n",
    "        country.append(TotalCountry[i][j])"
   ]
  },
  {
   "cell_type": "code",
   "execution_count": 7,
   "metadata": {},
   "outputs": [],
   "source": [
    "#making a new dataframe containing data for every date country uniquely\n",
    "d_new = {'ObservationDate':date,'Country':country,'Deaths':TotalDeath,}\n",
    "datacovid = pd.DataFrame(d_new)\n",
    "datacovid.reset_index(drop=True,inplace=True)"
   ]
  },
  {
   "cell_type": "code",
   "execution_count": 8,
   "metadata": {
    "scrolled": true
   },
   "outputs": [],
   "source": [
    "deaths_list=(datacovid.groupby(['Country']).Deaths.apply(list))"
   ]
  },
  {
   "cell_type": "code",
   "execution_count": 9,
   "metadata": {
    "scrolled": true
   },
   "outputs": [],
   "source": [
    "datacovid=datacovid.sort_values(by=['Country','ObservationDate'])\n",
    "datacovid.reset_index(drop=True,inplace=True)"
   ]
  },
  {
   "cell_type": "code",
   "execution_count": 11,
   "metadata": {},
   "outputs": [],
   "source": [
    "#calculating deaths per day for every country\n",
    "list_dpd=[]\n",
    "for i in range(len(deaths_list)):\n",
    "    dpd=[]\n",
    "    if(len(deaths_list[i]) > 1):\n",
    "        dpd.append(deaths_list[i][0])\n",
    "        for j in range(1,len(deaths_list[i])):\n",
    "            dpd.append(deaths_list[i][j]-deaths_list[i][j-1]) \n",
    "    else:\n",
    "        dpd.append(deaths_list[i][0])        \n",
    "    list_dpd.append(dpd)"
   ]
  },
  {
   "cell_type": "code",
   "execution_count": 15,
   "metadata": {},
   "outputs": [],
   "source": [
    "DeathPerDay=[]\n",
    "for i in range(len(list_dpd)):\n",
    "    for j in range(len(list_dpd[i])):\n",
    "        DeathPerDay.append(list_dpd[i][j])"
   ]
  },
  {
   "cell_type": "code",
   "execution_count": 16,
   "metadata": {},
   "outputs": [],
   "source": [
    "#Adding a new column Death per day\n",
    "datacovid['DeathPerDay']=DeathPerDay"
   ]
  },
  {
   "cell_type": "code",
   "execution_count": 17,
   "metadata": {
    "scrolled": true
   },
   "outputs": [],
   "source": [
    "#datacovid.sort_values(by=['ObservationDate','Country'])"
   ]
  },
  {
   "cell_type": "code",
   "execution_count": 36,
   "metadata": {},
   "outputs": [],
   "source": [
    "#Setting Dates\n",
    "od=datacovid['ObservationDate'].unique()\n",
    "for i in range(len(od)):\n",
    "    if(od[i]=='04/16/2020'):\n",
    "        index=i\n",
    "ObsDate=[]\n",
    "for i in range(index,index+10):\n",
    "    ObsDate.append(od[i])"
   ]
  },
  {
   "cell_type": "code",
   "execution_count": 37,
   "metadata": {},
   "outputs": [],
   "source": [
    "datatest=datacovid[datacovid['ObservationDate'].isin(ObsDate)]\n",
    "datatest.reset_index(drop=True,inplace=True)"
   ]
  },
  {
   "cell_type": "code",
   "execution_count": 38,
   "metadata": {
    "scrolled": true
   },
   "outputs": [],
   "source": [
    "list_dpd=datatest.groupby(['Country']).DeathPerDay.apply(list)"
   ]
  },
  {
   "cell_type": "code",
   "execution_count": 40,
   "metadata": {},
   "outputs": [],
   "source": [
    "c=datatest['Country'].sort_values(ascending=True).unique()"
   ]
  },
  {
   "cell_type": "code",
   "execution_count": 48,
   "metadata": {},
   "outputs": [],
   "source": [
    "#Countries whose Death Rate is decreasing in the given period of date\n",
    "con=[]\n",
    "for i in range(len(list_dpd)):\n",
    "    flag=[]\n",
    "    for j in range(0,(len(list_dpd[i]))-1):\n",
    "        if(list_dpd[i][j] > list_dpd[i][j+1]):\n",
    "            flag.append(1)\n",
    "        else:\n",
    "            flag.append(0)\n",
    "            \n",
    "    if(all(flag)):\n",
    "        #print(c[i])\n",
    "        con.append(c[i])\n",
    "        #print(list_dpd[i])\n",
    "        #con.append(dpd[i])"
   ]
  },
  {
   "cell_type": "code",
   "execution_count": 51,
   "metadata": {},
   "outputs": [
    {
     "data": {
      "text/plain": [
       "['Belgium', 'Netherlands']"
      ]
     },
     "execution_count": 51,
     "metadata": {},
     "output_type": "execute_result"
    }
   ],
   "source": [
    "con"
   ]
  },
  {
   "cell_type": "code",
   "execution_count": null,
   "metadata": {},
   "outputs": [],
   "source": []
  }
 ],
 "metadata": {
  "kernelspec": {
   "display_name": "Python 3",
   "language": "python",
   "name": "python3"
  },
  "language_info": {
   "codemirror_mode": {
    "name": "ipython",
    "version": 3
   },
   "file_extension": ".py",
   "mimetype": "text/x-python",
   "name": "python",
   "nbconvert_exporter": "python",
   "pygments_lexer": "ipython3",
   "version": "3.7.3"
  }
 },
 "nbformat": 4,
 "nbformat_minor": 2
}
